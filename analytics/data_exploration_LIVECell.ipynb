{
 "cells": [
  {
   "cell_type": "markdown",
   "metadata": {
    "collapsed": true,
    "pycharm": {
     "name": "#%% md\n"
    }
   },
   "source": [
    "# Data exploration of LIVECell"
   ]
  },
  {
   "cell_type": "code",
   "execution_count": 1,
   "outputs": [],
   "source": [
    "import os,inspect\n",
    "import pathlib2\n",
    "import pandas as pd\n",
    "import numpy as np\n",
    "import json\n",
    "import re"
   ],
   "metadata": {
    "collapsed": false,
    "pycharm": {
     "name": "#%%\n"
    }
   }
  },
  {
   "cell_type": "code",
   "execution_count": 41,
   "outputs": [],
   "source": [
    "## Helper functions\n",
    "\n",
    "def check_noneffective_ids(df):\n",
    "    \"\"\"\n",
    "    check if the given data frame has NaN and return the rows with it if any, or else return nothing\n",
    "    :param df: input dataframe\n",
    "    :return: the non effective rows of the dataframe\n",
    "    \"\"\"\n",
    "\n",
    "    is_NaN = df.isnull()\n",
    "    row_has_NaN = is_NaN.any(axis=1)\n",
    "    rows_with_NaN = df[row_has_NaN]\n",
    "    len_rows_with_NaN = rows_with_NaN.shape[0]\n",
    "    if len_rows_with_NaN != 0:\n",
    "        print(f\"there are {len_rows_with_NaN} non effective rows.\")\n",
    "        return rows_with_NaN\n",
    "    else:\n",
    "        print(\"the rows available are all effective, i.e., without NaNs.\")\n",
    "        return None\n",
    "\n",
    "def check_meta_images_df(df_img):\n",
    "    \"\"\"\n",
    "    check the validity of metadata of images\n",
    "    :param df_img: dataframe that contains image meta data\n",
    "    :return: length of all items in df_img and length of unique image ids and duplicated dataframe in terms of file_name\n",
    "    \"\"\"\n",
    "\n",
    "    # check the number of available items and unique images\n",
    "    len_df_img = df_img.shape[0]\n",
    "    print(f\"there are {len_df_img} items in the image metadata frame.\")\n",
    "    img_ids_array = df_img['id'].unique()\n",
    "    len_img_ids_array = img_ids_array.shape[0]\n",
    "    print(f\"there are {len_img_ids_array} unique ids (not images) in the image metadata frame.\")\n",
    "\n",
    "    # check if the ids is sorted by size\n",
    "    img_ids_array_copy = img_ids_array.copy()\n",
    "    img_ids_array_copy.sort()\n",
    "    print(np.allclose(img_ids_array, img_ids_array_copy), ': the ids are sorted by size.')\n",
    "\n",
    "    # check if all images are of the same size\n",
    "    uniq_width_arr = df_img['width'].unique()\n",
    "    uniq_height_arr = df_img['height'].unique()\n",
    "    if (uniq_width_arr.size == 1) and (uniq_height_arr.size == 1):\n",
    "        print((uniq_width_arr[0] == 704) and (uniq_height_arr[0] == 520), ': all the images are of size (704, 520).')\n",
    "    elif (uniq_width_arr.size != 1) and (uniq_height_arr.size == 1):\n",
    "        print(\"some images have different width.\")\n",
    "    elif (uniq_width_arr.size == 1) and (uniq_height_arr.size != 1):\n",
    "        print(\"some images have different height.\")\n",
    "    elif (uniq_width_arr.size != 1) and (uniq_height_arr.size != 1):\n",
    "        print(\"some images have different size.\")\n",
    "\n",
    "    # check if all the file names have the same extension .tff\n",
    "    # check if all the file names are unique\n",
    "    counts_of_tif_files = df_img['file_name'].str.count('.tif').sum()\n",
    "    if counts_of_tif_files == len_df_img:\n",
    "        print('all files are extended by .tff.')\n",
    "    else:\n",
    "        print('there are files extended by different file format.')\n",
    "\n",
    "    uniq_file_names_arr = df_img['file_name'].unique()\n",
    "    len_uniq_file_names_arr = uniq_file_names_arr.shape[0]\n",
    "    print(f\"there are {len_uniq_file_names_arr} unique file names in the image metadata frame.\")\n",
    "    if len_uniq_file_names_arr < len_df_img:\n",
    "        has_duplicate = df_img['file_name'].duplicated()\n",
    "        duplicates_filename = df_img[has_duplicate]\n",
    "        return len_df_img, len_img_ids_array, duplicates_filename\n",
    "    else:\n",
    "        return len_df_img, len_img_ids_array\n",
    "\n",
    "\n",
    "def check_meta_annots_df(df_annot):\n",
    "    \"\"\"\n",
    "\n",
    "    :param df_annot:\n",
    "    :return:\n",
    "    \"\"\"\n",
    "\n",
    "    pass"
   ],
   "metadata": {
    "collapsed": false,
    "pycharm": {
     "name": "#%%\n"
    }
   }
  },
  {
   "cell_type": "markdown",
   "source": [
    "## Define relevant paths"
   ],
   "metadata": {
    "collapsed": false,
    "pycharm": {
     "name": "#%% md\n"
    }
   }
  },
  {
   "cell_type": "code",
   "execution_count": 3,
   "outputs": [
    {
     "name": "stdout",
     "output_type": "stream",
     "text": [
      "currentdir:  F:\\Kaggle\\sartorius_cell_instance_segmentation\\code\\rkx_cell_is\\analytics\n",
      "project dir:  F:\\Kaggle\\sartorius_cell_instance_segmentation\\code\\rkx_cell_is\n"
     ]
    }
   ],
   "source": [
    "current_dir = pathlib2.Path.cwd()\n",
    "# current_dir = os.path.dirname(os.path.abspath(inspect.getfile(inspect.currentframe())))\n",
    "print(\"currentdir: \", current_dir)\n",
    "project_dir = current_dir.parent\n",
    "print(\"project dir: \", project_dir)"
   ],
   "metadata": {
    "collapsed": false,
    "pycharm": {
     "name": "#%%\n"
    }
   }
  },
  {
   "cell_type": "code",
   "execution_count": 4,
   "outputs": [
    {
     "name": "stdout",
     "output_type": "stream",
     "text": [
      "dataset dir:  F:\\Kaggle\\sartorius_cell_instance_segmentation\\code\\rkx_cell_is\\dataset\n",
      "livecell dataset dir:  F:\\Kaggle\\sartorius_cell_instance_segmentation\\code\\rkx_cell_is\\dataset\\LIVECell_dataset_2021\n"
     ]
    }
   ],
   "source": [
    "ds_path = project_dir / 'dataset'\n",
    "print(\"dataset dir: \", ds_path)\n",
    "livecell_ds_path = ds_path / 'LIVECell_dataset_2021'\n",
    "print(\"livecell dataset dir: \", livecell_ds_path)\n",
    "livecell_ds_annot_path, livecell_ds_imgs_path = [x for x in livecell_ds_path.iterdir() if x.is_dir()]\n",
    "\n",
    "livecell_train_meta_path = livecell_ds_annot_path / 'LIVECell' / 'livecell_coco_train.json'\n",
    "livecell_val_meta_path = livecell_ds_annot_path / 'LIVECell' / 'livecell_coco_val.json'\n",
    "livecell_test_meta_path = livecell_ds_annot_path / 'LIVECell' / 'livecell_coco_test.json'\n",
    "\n",
    "livecell_train_val_img_path = livecell_ds_imgs_path / 'livecell_train_val_images'\n",
    "livecell_test_img_path = livecell_ds_imgs_path / 'livecell_test_images'"
   ],
   "metadata": {
    "collapsed": false,
    "pycharm": {
     "name": "#%%\n"
    }
   }
  },
  {
   "cell_type": "markdown",
   "source": [
    "## Training metadata exploration"
   ],
   "metadata": {
    "collapsed": false
   }
  },
  {
   "cell_type": "code",
   "execution_count": 5,
   "outputs": [
    {
     "name": "stdout",
     "output_type": "stream",
     "text": [
      "dict_keys(['images', 'annotations', 'categories', 'info', 'licenses']) \n",
      "\n",
      "\n",
      "the type of images container:  <class 'list'>\n",
      "the first element of <list> images: \n",
      " {'id': 1, 'width': 704, 'height': 520, 'file_name': 'BT474_Phase_A3_2_00d04h00m_3.tif', 'original_filename': 'BT474_Phase_A3_2_00d04h00m_3.png', 'url': 'https://darwin.v7labs.com/api/images/870028/original'} \n",
      "\n",
      "\n",
      "the type of annotations container:  <class 'dict'>\n",
      "the first ten keys of <dict> annotations: \n",
      " ['2', '3', '4', '5', '6', '7', '8', '9', '10', '12']\n",
      "the first item of <dict> annotations has the key: \n",
      " 2 \n",
      "and the value: \n",
      "{'id': 2, 'image_id': 1, 'category_id': 1, 'segmentation': [[288.02, 305.63, 286.01, 298.87, 286.01, 295.4, 288.02, 290.1, 293.86, 287.91, 297.51, 287.73, 300.44, 289.01, 304.27, 292.48, 304.64, 295.04, 305.18, 297.77, 305.18, 300.7, 303.91, 302.52, 301.17, 305.26, 297.33, 307.45, 294.59, 307.45, 290.58, 308.0]], 'area': 307.4786000000313, 'bbox': [286.01, 287.73, 19.170000000000016, 20.269999999999982], 'iscrowd': 0} \n",
      "\n",
      "\n",
      "the type of info container:  <class 'dict'>\n",
      "the keys of <dict> info: \n",
      " dict_keys(['year', 'version', 'description', 'contributor', 'url', 'date_created']) \n",
      "\n",
      "\n",
      "the type of licenses container:  <class 'list'>\n",
      "the first element of <list> licenses: \n",
      " {'id': 1, 'name': 'Attribution-NonCommercial 4.0 International License', 'url': 'https://creativecommons.org/licenses/by-nc/4.0/'}\n"
     ]
    }
   ],
   "source": [
    "# Reading the json file including training metadata as a dict\n",
    "with open(livecell_train_meta_path) as json_train_data:\n",
    "    train_data = json.load(json_train_data)\n",
    "\n",
    "#basic knowledge of training metadata\n",
    "print(train_data.keys(), '\\n\\n')\n",
    "print('the type of images container: ', type(train_data['images']))\n",
    "print('the first element of <list> images: \\n', train_data['images'][0], '\\n\\n')\n",
    "print('the type of annotations container: ', type(train_data['annotations']))\n",
    "print('the first ten keys of <dict> annotations: \\n', list(train_data['annotations'].keys())[:10])\n",
    "print(f\"the first item of <dict> annotations has the key: \\n {list(train_data['annotations'].items())[0][0]} \\nand the \"\n",
    "      f\"value: \\n{list(train_data['annotations'].items())[0][1]} \\n\\n\")\n",
    "print('the type of info container: ', type(train_data['info']))\n",
    "print('the keys of <dict> info: \\n', train_data['info'].keys(), '\\n\\n')\n",
    "print('the type of licenses container: ', type(train_data['licenses']))\n",
    "print('the first element of <list> licenses: \\n', train_data['licenses'][0])"
   ],
   "metadata": {
    "collapsed": false,
    "pycharm": {
     "name": "#%%\n"
    }
   }
  },
  {
   "cell_type": "markdown",
   "source": [
    "### Metadata: images"
   ],
   "metadata": {
    "collapsed": false,
    "pycharm": {
     "name": "#%% md\n"
    }
   }
  },
  {
   "cell_type": "code",
   "execution_count": 6,
   "outputs": [
    {
     "data": {
      "text/plain": "    id  width  height                         file_name  \\\n0    1    704     520  BT474_Phase_A3_2_00d04h00m_3.tif   \n1  133    704     520  BT474_Phase_C3_2_02d12h00m_4.tif   \n2  323    704     520  BT474_Phase_C3_1_01d16h00m_3.tif   \n3  498    704     520  BT474_Phase_C3_1_02d16h00m_4.tif   \n4  741    704     520  BT474_Phase_C3_1_04d00h00m_3.tif   \n\n                  original_filename  \\\n0  BT474_Phase_A3_2_00d04h00m_3.png   \n1  BT474_Phase_C3_2_02d12h00m_4.png   \n2  BT474_Phase_C3_1_01d16h00m_3.png   \n3  BT474_Phase_C3_1_02d16h00m_4.png   \n4  BT474_Phase_C3_1_04d00h00m_3.png   \n\n                                                 url  \n0  https://darwin.v7labs.com/api/images/870028/or...  \n1  https://darwin.v7labs.com/api/images/37512/ori...  \n2  https://darwin.v7labs.com/api/images/108155/or...  \n3  https://darwin.v7labs.com/api/images/108172/or...  \n4  https://darwin.v7labs.com/api/images/921711/or...  ",
      "text/html": "<div>\n<style scoped>\n    .dataframe tbody tr th:only-of-type {\n        vertical-align: middle;\n    }\n\n    .dataframe tbody tr th {\n        vertical-align: top;\n    }\n\n    .dataframe thead th {\n        text-align: right;\n    }\n</style>\n<table border=\"1\" class=\"dataframe\">\n  <thead>\n    <tr style=\"text-align: right;\">\n      <th></th>\n      <th>id</th>\n      <th>width</th>\n      <th>height</th>\n      <th>file_name</th>\n      <th>original_filename</th>\n      <th>url</th>\n    </tr>\n  </thead>\n  <tbody>\n    <tr>\n      <th>0</th>\n      <td>1</td>\n      <td>704</td>\n      <td>520</td>\n      <td>BT474_Phase_A3_2_00d04h00m_3.tif</td>\n      <td>BT474_Phase_A3_2_00d04h00m_3.png</td>\n      <td>https://darwin.v7labs.com/api/images/870028/or...</td>\n    </tr>\n    <tr>\n      <th>1</th>\n      <td>133</td>\n      <td>704</td>\n      <td>520</td>\n      <td>BT474_Phase_C3_2_02d12h00m_4.tif</td>\n      <td>BT474_Phase_C3_2_02d12h00m_4.png</td>\n      <td>https://darwin.v7labs.com/api/images/37512/ori...</td>\n    </tr>\n    <tr>\n      <th>2</th>\n      <td>323</td>\n      <td>704</td>\n      <td>520</td>\n      <td>BT474_Phase_C3_1_01d16h00m_3.tif</td>\n      <td>BT474_Phase_C3_1_01d16h00m_3.png</td>\n      <td>https://darwin.v7labs.com/api/images/108155/or...</td>\n    </tr>\n    <tr>\n      <th>3</th>\n      <td>498</td>\n      <td>704</td>\n      <td>520</td>\n      <td>BT474_Phase_C3_1_02d16h00m_4.tif</td>\n      <td>BT474_Phase_C3_1_02d16h00m_4.png</td>\n      <td>https://darwin.v7labs.com/api/images/108172/or...</td>\n    </tr>\n    <tr>\n      <th>4</th>\n      <td>741</td>\n      <td>704</td>\n      <td>520</td>\n      <td>BT474_Phase_C3_1_04d00h00m_3.tif</td>\n      <td>BT474_Phase_C3_1_04d00h00m_3.png</td>\n      <td>https://darwin.v7labs.com/api/images/921711/or...</td>\n    </tr>\n  </tbody>\n</table>\n</div>"
     },
     "execution_count": 6,
     "metadata": {},
     "output_type": "execute_result"
    }
   ],
   "source": [
    "df_livecell_train_imgs_meta = pd.DataFrame.from_dict(train_data['images'])\n",
    "df_livecell_train_imgs_meta.head()"
   ],
   "metadata": {
    "collapsed": false,
    "pycharm": {
     "name": "#%%\n"
    }
   }
  },
  {
   "cell_type": "code",
   "execution_count": 47,
   "outputs": [
    {
     "name": "stdout",
     "output_type": "stream",
     "text": [
      "the rows available are all effective, i.e., without NaNs.\n",
      "there are 3253 items in the image metadata frame.\n",
      "there are 3253 unique ids (not images) in the image metadata frame.\n",
      "True : the ids are sorted by size.\n",
      "True : all the images are of size (704, 520).\n",
      "all files are extended by .tff.\n",
      "there are 3188 unique file names in the image metadata frame.\n"
     ]
    },
    {
     "data": {
      "text/plain": "           id  width  height                         file_name  \\\n1726  1012330    704     520  Huh7_Phase_A10_2_00d16h00m_4.tif   \n1737  1013044    704     520  Huh7_Phase_A11_2_01d20h00m_4.tif   \n1739  1013129    704     520  Huh7_Phase_A10_2_00d12h00m_4.tif   \n1751  1013993    704     520  Huh7_Phase_A10_2_00d00h00m_2.tif   \n1758  1014395    704     520  Huh7_Phase_A10_2_00d04h00m_3.tif   \n\n                     original_filename  \\\n1726  Huh7_Phase_A10_2_00d16h00m_4.png   \n1737  Huh7_Phase_A11_2_01d20h00m_4.png   \n1739  Huh7_Phase_A10_2_00d12h00m_4.png   \n1751  Huh7_Phase_A10_2_00d00h00m_2.png   \n1758  Huh7_Phase_A10_2_00d04h00m_3.png   \n\n                                                    url  \n1726  https://darwin.v7labs.com/api/images/47430/ori...  \n1737  https://darwin.v7labs.com/api/images/47458/ori...  \n1739  https://darwin.v7labs.com/api/images/47426/ori...  \n1751  https://darwin.v7labs.com/api/images/47484/ori...  \n1758  https://darwin.v7labs.com/api/images/47417/ori...  ",
      "text/html": "<div>\n<style scoped>\n    .dataframe tbody tr th:only-of-type {\n        vertical-align: middle;\n    }\n\n    .dataframe tbody tr th {\n        vertical-align: top;\n    }\n\n    .dataframe thead th {\n        text-align: right;\n    }\n</style>\n<table border=\"1\" class=\"dataframe\">\n  <thead>\n    <tr style=\"text-align: right;\">\n      <th></th>\n      <th>id</th>\n      <th>width</th>\n      <th>height</th>\n      <th>file_name</th>\n      <th>original_filename</th>\n      <th>url</th>\n    </tr>\n  </thead>\n  <tbody>\n    <tr>\n      <th>1726</th>\n      <td>1012330</td>\n      <td>704</td>\n      <td>520</td>\n      <td>Huh7_Phase_A10_2_00d16h00m_4.tif</td>\n      <td>Huh7_Phase_A10_2_00d16h00m_4.png</td>\n      <td>https://darwin.v7labs.com/api/images/47430/ori...</td>\n    </tr>\n    <tr>\n      <th>1737</th>\n      <td>1013044</td>\n      <td>704</td>\n      <td>520</td>\n      <td>Huh7_Phase_A11_2_01d20h00m_4.tif</td>\n      <td>Huh7_Phase_A11_2_01d20h00m_4.png</td>\n      <td>https://darwin.v7labs.com/api/images/47458/ori...</td>\n    </tr>\n    <tr>\n      <th>1739</th>\n      <td>1013129</td>\n      <td>704</td>\n      <td>520</td>\n      <td>Huh7_Phase_A10_2_00d12h00m_4.tif</td>\n      <td>Huh7_Phase_A10_2_00d12h00m_4.png</td>\n      <td>https://darwin.v7labs.com/api/images/47426/ori...</td>\n    </tr>\n    <tr>\n      <th>1751</th>\n      <td>1013993</td>\n      <td>704</td>\n      <td>520</td>\n      <td>Huh7_Phase_A10_2_00d00h00m_2.tif</td>\n      <td>Huh7_Phase_A10_2_00d00h00m_2.png</td>\n      <td>https://darwin.v7labs.com/api/images/47484/ori...</td>\n    </tr>\n    <tr>\n      <th>1758</th>\n      <td>1014395</td>\n      <td>704</td>\n      <td>520</td>\n      <td>Huh7_Phase_A10_2_00d04h00m_3.tif</td>\n      <td>Huh7_Phase_A10_2_00d04h00m_3.png</td>\n      <td>https://darwin.v7labs.com/api/images/47417/ori...</td>\n    </tr>\n  </tbody>\n</table>\n</div>"
     },
     "execution_count": 47,
     "metadata": {},
     "output_type": "execute_result"
    }
   ],
   "source": [
    "# check the validity of metadata of image\n",
    "\n",
    "if check_noneffective_ids(df_livecell_train_imgs_meta) is None:\n",
    "    train_check_results = check_meta_images_df(df_livecell_train_imgs_meta)\n",
    "    if len(train_check_results) == 2:\n",
    "        len_df_train_img, len_train_img_ids = train_check_results\n",
    "    elif len(train_check_results) == 3:\n",
    "        len_df_train_img, len_train_img_ids, duplicated_train_filenames = train_check_results\n",
    "duplicated_train_filenames.head() #not illegal in terms of syntax but only for visualization"
   ],
   "metadata": {
    "collapsed": false,
    "pycharm": {
     "name": "#%%\n"
    }
   }
  },
  {
   "cell_type": "code",
   "execution_count": 46,
   "outputs": [
    {
     "data": {
      "text/plain": "           id  width  height                         file_name  \\\n1500   742297    704     520  Huh7_Phase_A10_2_00d16h00m_4.tif   \n1726  1012330    704     520  Huh7_Phase_A10_2_00d16h00m_4.tif   \n\n                     original_filename  \\\n1500  Huh7_Phase_A10_2_00d16h00m_4.png   \n1726  Huh7_Phase_A10_2_00d16h00m_4.png   \n\n                                                    url  \n1500  https://darwin.v7labs.com/api/images/37624/ori...  \n1726  https://darwin.v7labs.com/api/images/47430/ori...  ",
      "text/html": "<div>\n<style scoped>\n    .dataframe tbody tr th:only-of-type {\n        vertical-align: middle;\n    }\n\n    .dataframe tbody tr th {\n        vertical-align: top;\n    }\n\n    .dataframe thead th {\n        text-align: right;\n    }\n</style>\n<table border=\"1\" class=\"dataframe\">\n  <thead>\n    <tr style=\"text-align: right;\">\n      <th></th>\n      <th>id</th>\n      <th>width</th>\n      <th>height</th>\n      <th>file_name</th>\n      <th>original_filename</th>\n      <th>url</th>\n    </tr>\n  </thead>\n  <tbody>\n    <tr>\n      <th>1500</th>\n      <td>742297</td>\n      <td>704</td>\n      <td>520</td>\n      <td>Huh7_Phase_A10_2_00d16h00m_4.tif</td>\n      <td>Huh7_Phase_A10_2_00d16h00m_4.png</td>\n      <td>https://darwin.v7labs.com/api/images/37624/ori...</td>\n    </tr>\n    <tr>\n      <th>1726</th>\n      <td>1012330</td>\n      <td>704</td>\n      <td>520</td>\n      <td>Huh7_Phase_A10_2_00d16h00m_4.tif</td>\n      <td>Huh7_Phase_A10_2_00d16h00m_4.png</td>\n      <td>https://darwin.v7labs.com/api/images/47430/ori...</td>\n    </tr>\n  </tbody>\n</table>\n</div>"
     },
     "execution_count": 46,
     "metadata": {},
     "output_type": "execute_result"
    }
   ],
   "source": [
    "# one example to justify the duplication in terms of the file name\n",
    "\n",
    "df_livecell_train_imgs_meta[df_livecell_train_imgs_meta['file_name'].str.contains('Huh7_Phase_A10_2_00d16h00m_4.tif',\n",
    "                                                                                  regex=False)]"
   ],
   "metadata": {
    "collapsed": false,
    "pycharm": {
     "name": "#%%\n"
    }
   }
  },
  {
   "cell_type": "markdown",
   "source": [
    "### Metadata: annotations"
   ],
   "metadata": {
    "collapsed": false
   }
  },
  {
   "cell_type": "code",
   "execution_count": 61,
   "outputs": [
    {
     "data": {
      "text/plain": "   id  image_id  category_id  \\\n2   2         1            1   \n3   3         1            1   \n4   4         1            1   \n5   5         1            1   \n6   6         1            1   \n\n                                        segmentation       area  \\\n2  [[288.02, 305.63, 286.01, 298.87, 286.01, 295....  307.47860   \n3  [[271.22, 323.34, 267.93, 322.61, 266.29, 320....  247.47555   \n4  [[284.91, 279.88, 289.85, 281.52, 293.31, 281....  245.22945   \n5  [[260.86, 327.64, 258.19, 325.63, 255.25, 324....  574.21305   \n6  [[241.75, 324.69, 239.61, 326.97, 236.27, 331....  296.31140   \n\n                                                bbox  iscrowd  \n2  [286.01, 287.73, 19.170000000000016, 20.269999...        0  \n3  [263.0, 304.9, 20.44999999999999, 18.439999999...        0  \n4  [275.42, 277.14, 23.91999999999996, 17.1600000...        0  \n5          [246.96, 280.72, 20.98999999999998, 54.0]        0  \n6        [229.45, 302.91, 22.590000000000003, 32.75]        0  ",
      "text/html": "<div>\n<style scoped>\n    .dataframe tbody tr th:only-of-type {\n        vertical-align: middle;\n    }\n\n    .dataframe tbody tr th {\n        vertical-align: top;\n    }\n\n    .dataframe thead th {\n        text-align: right;\n    }\n</style>\n<table border=\"1\" class=\"dataframe\">\n  <thead>\n    <tr style=\"text-align: right;\">\n      <th></th>\n      <th>id</th>\n      <th>image_id</th>\n      <th>category_id</th>\n      <th>segmentation</th>\n      <th>area</th>\n      <th>bbox</th>\n      <th>iscrowd</th>\n    </tr>\n  </thead>\n  <tbody>\n    <tr>\n      <th>2</th>\n      <td>2</td>\n      <td>1</td>\n      <td>1</td>\n      <td>[[288.02, 305.63, 286.01, 298.87, 286.01, 295....</td>\n      <td>307.47860</td>\n      <td>[286.01, 287.73, 19.170000000000016, 20.269999...</td>\n      <td>0</td>\n    </tr>\n    <tr>\n      <th>3</th>\n      <td>3</td>\n      <td>1</td>\n      <td>1</td>\n      <td>[[271.22, 323.34, 267.93, 322.61, 266.29, 320....</td>\n      <td>247.47555</td>\n      <td>[263.0, 304.9, 20.44999999999999, 18.439999999...</td>\n      <td>0</td>\n    </tr>\n    <tr>\n      <th>4</th>\n      <td>4</td>\n      <td>1</td>\n      <td>1</td>\n      <td>[[284.91, 279.88, 289.85, 281.52, 293.31, 281....</td>\n      <td>245.22945</td>\n      <td>[275.42, 277.14, 23.91999999999996, 17.1600000...</td>\n      <td>0</td>\n    </tr>\n    <tr>\n      <th>5</th>\n      <td>5</td>\n      <td>1</td>\n      <td>1</td>\n      <td>[[260.86, 327.64, 258.19, 325.63, 255.25, 324....</td>\n      <td>574.21305</td>\n      <td>[246.96, 280.72, 20.98999999999998, 54.0]</td>\n      <td>0</td>\n    </tr>\n    <tr>\n      <th>6</th>\n      <td>6</td>\n      <td>1</td>\n      <td>1</td>\n      <td>[[241.75, 324.69, 239.61, 326.97, 236.27, 331....</td>\n      <td>296.31140</td>\n      <td>[229.45, 302.91, 22.590000000000003, 32.75]</td>\n      <td>0</td>\n    </tr>\n  </tbody>\n</table>\n</div>"
     },
     "execution_count": 61,
     "metadata": {},
     "output_type": "execute_result"
    }
   ],
   "source": [
    "## dataframe of annotations dict\n",
    "\n",
    "df_livecell_train_annots_meta = pd.DataFrame.from_dict(train_data['annotations'], orient='index')\n",
    "df_livecell_train_annots_meta.head()"
   ],
   "metadata": {
    "collapsed": false,
    "pycharm": {
     "name": "#%%\n"
    }
   }
  },
  {
   "cell_type": "code",
   "execution_count": null,
   "outputs": [],
   "source": [
    "# check the equality between the index and column 'id'\n",
    "\n",
    "index_arr = df_livecell_train_annots_meta.index.values\n",
    "id_arr = df_livecell_train_annots_meta['id'].values\n",
    "print(np.allclose(index_arr, id_arr), ': The keys_arr out of keys of the annotation dict and id_arr out of the IDs in the'\n",
    "                                     ' annotation dict is elementwise equal.')"
   ],
   "metadata": {
    "collapsed": false,
    "pycharm": {
     "name": "#%%\n"
    }
   }
  },
  {
   "cell_type": "code",
   "execution_count": 59,
   "outputs": [
    {
     "name": "stdout",
     "output_type": "stream",
     "text": [
      "the rows available are all effective, i.e., without NaNs.\n"
     ]
    }
   ],
   "source": [
    "check_noneffective_ids(df_livecell_train_annots_meta)"
   ],
   "metadata": {
    "collapsed": false,
    "pycharm": {
     "name": "#%%\n"
    }
   }
  },
  {
   "cell_type": "code",
   "execution_count": 63,
   "outputs": [
    {
     "name": "stdout",
     "output_type": "stream",
     "text": [
      "there are 1018576 unique ids in the training dataset\n",
      "there are 3253 unique images in the training dataset\n",
      "there are 1 unique categories in the training dataset\n",
      "there are 1 unique values of iscrowd in the training dataset\n"
     ]
    }
   ],
   "source": [
    "ids_arr = df_livecell_train_annots_meta['id'].unique()\n",
    "print(f\"there are {ids_arr.shape[0]} unique ids in the training dataset\")\n",
    "img_ids_arr = df_livecell_train_annots_meta['image_id'].unique()\n",
    "print(f\"there are {img_ids_arr.shape[0]} unique images in the training dataset\")\n",
    "category_ids_arr = df_livecell_train_annots_meta['category_id'].unique()\n",
    "print(f\"there are {category_ids_arr.shape[0]} unique categories in the training dataset\")\n",
    "iscrowd_arr = df_livecell_train_annots_meta['iscrowd'].unique()\n",
    "print(f\"there are {iscrowd_arr.shape[0]} unique values of iscrowd in the training dataset\")"
   ],
   "metadata": {
    "collapsed": false,
    "pycharm": {
     "name": "#%%\n"
    }
   }
  },
  {
   "cell_type": "markdown",
   "source": [
    "### Metadata: info"
   ],
   "metadata": {
    "collapsed": false
   }
  },
  {
   "cell_type": "code",
   "execution_count": 43,
   "outputs": [
    {
     "data": {
      "text/plain": "{'year': '2020',\n 'version': '1.0',\n 'description': 'LIVECell 2021 Dataset',\n 'contributor': 'Sartorius',\n 'url': 'https://osf.io/6kang/?view_only=da0516e9189b4dbdbf018475113ed343',\n 'date_created': '2021/01/19'}"
     },
     "execution_count": 43,
     "metadata": {},
     "output_type": "execute_result"
    }
   ],
   "source": [
    "train_data['info']"
   ],
   "metadata": {
    "collapsed": false,
    "pycharm": {
     "name": "#%%\n"
    }
   }
  },
  {
   "cell_type": "markdown",
   "source": [
    "### Metadata: licenses"
   ],
   "metadata": {
    "collapsed": false
   }
  },
  {
   "cell_type": "code",
   "execution_count": 44,
   "outputs": [
    {
     "data": {
      "text/plain": "[{'id': 1,\n  'name': 'Attribution-NonCommercial 4.0 International License',\n  'url': 'https://creativecommons.org/licenses/by-nc/4.0/'}]"
     },
     "execution_count": 44,
     "metadata": {},
     "output_type": "execute_result"
    }
   ],
   "source": [
    "train_data['licenses']"
   ],
   "metadata": {
    "collapsed": false,
    "pycharm": {
     "name": "#%%\n"
    }
   }
  },
  {
   "cell_type": "markdown",
   "source": [
    "## Validation metadata exploration"
   ],
   "metadata": {
    "collapsed": false
   }
  },
  {
   "cell_type": "code",
   "execution_count": null,
   "outputs": [],
   "source": [],
   "metadata": {
    "collapsed": false,
    "pycharm": {
     "name": "#%%\n"
    }
   }
  },
  {
   "cell_type": "markdown",
   "source": [
    "## Testing metadata exploration"
   ],
   "metadata": {
    "collapsed": false,
    "pycharm": {
     "name": "#%% md\n"
    }
   }
  }
 ],
 "metadata": {
  "kernelspec": {
   "display_name": "Python 3",
   "language": "python",
   "name": "python3"
  },
  "language_info": {
   "codemirror_mode": {
    "name": "ipython",
    "version": 2
   },
   "file_extension": ".py",
   "mimetype": "text/x-python",
   "name": "python",
   "nbconvert_exporter": "python",
   "pygments_lexer": "ipython2",
   "version": "2.7.6"
  }
 },
 "nbformat": 4,
 "nbformat_minor": 0
}