{
 "cells": [
  {
   "cell_type": "markdown",
   "metadata": {
    "collapsed": true,
    "pycharm": {
     "name": "#%% md\n"
    }
   },
   "source": [
    "# Data exploration of LIVECell"
   ]
  },
  {
   "cell_type": "code",
   "execution_count": 1,
   "outputs": [],
   "source": [
    "import os, inspect\n",
    "import pathlib2\n",
    "import pandas as pd\n",
    "import numpy as np\n",
    "import json\n",
    "import re"
   ],
   "metadata": {
    "collapsed": false,
    "pycharm": {
     "name": "#%%\n"
    }
   }
  },
  {
   "cell_type": "code",
   "execution_count": 33,
   "outputs": [],
   "source": [
    "# Helper functions\n",
    "\n",
    "def learn_metadata(metadata_path):\n",
    "    \"\"\"\n",
    "    learn about the basics of the metadata\n",
    "    :param metadata_path: pathlib2.WindowsPath path representing the metadata file\n",
    "    :return: dict metadata\n",
    "    \"\"\"\n",
    "\n",
    "    # read the json file metadata as a dict\n",
    "    with open(metadata_path) as json_data:\n",
    "        metadata = json.load(json_data)\n",
    "\n",
    "    # learn basic knowledge of metadata\n",
    "    print(metadata.keys(), '\\n\\n')\n",
    "    print('the type of images container: ', type(metadata['images']))\n",
    "    print('the first element of <list> images: \\n', metadata['images'][0], '\\n\\n')\n",
    "    print('the type of annotations container: ', type(metadata['annotations']))\n",
    "    print('the first ten keys of <dict> annotations: \\n', list(metadata['annotations'].keys())[:10])\n",
    "    print(f\"the first item of <dict> annotations has the key: \\n {list(metadata['annotations'].items())[0][0]} \\nand the \"\n",
    "          f\"value: \\n{list(metadata['annotations'].items())[0][1]} \\n\\n\")\n",
    "    print('the type of categories container: ', type(metadata['categories']))\n",
    "    print('the only element of <list> categories: \\n', metadata['categories'][0], '\\n\\n')\n",
    "    print('the type of info container: ', type(metadata['info']))\n",
    "    print('the keys of <dict> info: \\n', metadata['info'].keys(), '\\n\\n')\n",
    "    print('the type of licenses container: ', type(metadata['licenses']))\n",
    "    print('the first element of <list> licenses: \\n', metadata['licenses'][0])\n",
    "\n",
    "    return metadata\n",
    "\n",
    "def check_noneffective_ids(df):\n",
    "    \"\"\"\n",
    "    check if the given data frame has NaN and return the rows with it if any, or else return nothing\n",
    "    :param df: pd.DataFrame input dataframe\n",
    "    :return: pd.DataFrame dataframe including only non-valid rows if any\n",
    "    \"\"\"\n",
    "\n",
    "    is_NaN = df.isnull()\n",
    "    row_has_NaN = is_NaN.any(axis=1)\n",
    "    rows_with_NaN = df[row_has_NaN]\n",
    "    len_rows_with_NaN = rows_with_NaN.shape[0]\n",
    "    if len_rows_with_NaN != 0:\n",
    "        print(f\"there are {len_rows_with_NaN} non effective rows.\")\n",
    "        return rows_with_NaN\n",
    "    else:\n",
    "        print(\"the rows available are all effective, i.e., without NaNs.\")\n",
    "        return None\n",
    "\n",
    "def check_meta_images_df(df_img):\n",
    "    \"\"\"\n",
    "    check the validity of metadata of images\n",
    "    :param df_img: pd.DataFrame dataframe that contains image metadata\n",
    "    :return: int length of all items in df_img and\n",
    "             int length of unique image ids and\n",
    "             pd.DataFrame duplicated dataframe in terms of file_name if any\n",
    "    \"\"\"\n",
    "\n",
    "    # check the number of available items and unique ids of the dataframe\n",
    "    len_df_img = df_img.shape[0]\n",
    "    print(f\"there are {len_df_img} items in the image metadata frame.\")\n",
    "    img_ids_array = df_img['id'].unique()\n",
    "    len_img_ids_array = img_ids_array.shape[0]\n",
    "    print(f\"there are {len_img_ids_array} unique ids (not images) in the image metadata frame.\")\n",
    "\n",
    "    # check if the ids are sorted by size\n",
    "    img_ids_array_copy = img_ids_array.copy()\n",
    "    img_ids_array_copy.sort()\n",
    "    print(np.allclose(img_ids_array, img_ids_array_copy), ': the ids are sorted by size.')\n",
    "\n",
    "    # check if all images are of the same size given the width and height\n",
    "    uniq_width_arr = df_img['width'].unique()\n",
    "    uniq_height_arr = df_img['height'].unique()\n",
    "    if (uniq_width_arr.size == 1) and (uniq_height_arr.size == 1):\n",
    "        print((uniq_width_arr[0] == 704) and (uniq_height_arr[0] == 520), ': all the images are of size (704, 520).')\n",
    "    elif (uniq_width_arr.size != 1) and (uniq_height_arr.size == 1):\n",
    "        print(\"some images have different width.\")\n",
    "    elif (uniq_width_arr.size == 1) and (uniq_height_arr.size != 1):\n",
    "        print(\"some images have different height.\")\n",
    "    elif (uniq_width_arr.size != 1) and (uniq_height_arr.size != 1):\n",
    "        print(\"some images have different size.\")\n",
    "\n",
    "    # check if all the file names have the same extension .tff\n",
    "    # and check if all the file names are unique\n",
    "    counts_of_tif_files = df_img['file_name'].str.count('.tif').sum()\n",
    "    if counts_of_tif_files == len_df_img:\n",
    "        print('all files are extended by .tff.')\n",
    "    else:\n",
    "        print('there are files extended by different file format.')\n",
    "\n",
    "    uniq_file_names_arr = df_img['file_name'].unique()\n",
    "    len_uniq_file_names_arr = uniq_file_names_arr.shape[0]\n",
    "    print(f\"there are {len_uniq_file_names_arr} unique file names in the image metadata frame.\")\n",
    "    if len_uniq_file_names_arr < len_df_img:\n",
    "        has_duplicate = df_img['file_name'].duplicated()\n",
    "        non_duplicates_filename = df_img[~has_duplicate]\n",
    "        return len_df_img, len_img_ids_array, non_duplicates_filename\n",
    "    else:\n",
    "        return len_df_img, len_img_ids_array\n",
    "\n",
    "def check_filename_correspondence(series, image_path):\n",
    "    \"\"\"\n",
    "    check the correspondence between the file_name column and the image file names in the corresponding directory\n",
    "    :param series: pd.Series series representing file_name column extracted from the metadata of the image\n",
    "    :param image_path: pathlib2.WindowsPath path representing the directory including all the images\n",
    "    :return:\n",
    "    \"\"\"\n",
    "\n",
    "    # check the number of valid images in the image_path\n",
    "    valid_image_names_list = list()\n",
    "    for cell_type_image_path in image_path.iterdir():\n",
    "        for cell_image_path in cell_type_image_path.glob('*.tif'):\n",
    "            if cell_image_path.stat().st_size is not None:\n",
    "                valid_image_names_list.append(cell_image_path.name)\n",
    "    print(f\"the number of valid images in dir {image_path.name} is: {len(valid_image_names_list)}.\")\n",
    "\n",
    "    # check the correspondence between file_name column and valid images in the image_path\n",
    "    valid_image_names_arr = np.asarray(valid_image_names_list)\n",
    "    file_names_arr = series.to_numpy()\n",
    "    print(f\"the number of unique filenames in column file_name is: {file_names_arr.shape[0]}.\")\n",
    "    intersect_arr = np.intersect1d(file_names_arr, valid_image_names_arr)\n",
    "    if intersect_arr.shape[0] == file_names_arr.shape[0]:\n",
    "        print(\"all unique filenames in column file_name have the corresponding images.\")\n",
    "    else:\n",
    "        print(\"there are missing images for the given unique filenames in column file_name.\")\n",
    "\n",
    "    return None\n",
    "\n",
    "def check_meta_annots_df(df_img, df_annot):\n",
    "    \"\"\"\n",
    "    check the validity of metadata of annotations\n",
    "    :param df_img: pd.DataFrame dataframe that contains image metadata\n",
    "    :param df_annot: pd.DataFrame dataframe that contains annotation metadata\n",
    "    :return:\n",
    "    \"\"\"\n",
    "\n",
    "    # check the equality between the index and column 'id' of the input dataframe\n",
    "    index_arr = df_annot.index.to_numpy()\n",
    "    index_arr = index_arr.astype('int64')\n",
    "    ids_annot_arr = df_annot['id'].to_numpy()\n",
    "    print(np.allclose(index_arr, ids_annot_arr), ': The index values and values of the id column of annotations metadata in form'\n",
    "                                     ' of data frame is elementwise equal.')\n",
    "\n",
    "    # check the number of unique values of some existing columns\n",
    "    print(f\"there are {ids_annot_arr.shape[0]} unique ids in the metadata for annotations.\")\n",
    "    img_ids_annot_arr = df_annot['image_id'].unique()\n",
    "    print(f\"there are {img_ids_annot_arr.shape[0]} unique image ids in the metadata for annotations.\")\n",
    "    category_ids_annot_arr = df_annot['category_id'].unique()\n",
    "    print(f\"there are {category_ids_annot_arr.shape[0]} unique categories in the metadata for annotations.\")\n",
    "    iscrowd_annot_arr = df_annot['iscrowd'].unique()\n",
    "    print(f\"there are {iscrowd_annot_arr.shape[0]} unique values of iscrowd in the metadata for annotations.\")\n",
    "\n",
    "    # check the pair relationship between image ids of metadata for images and annotations\n",
    "    img_ids_img_arr = df_img['id'].to_numpy()  # already known that the id col is sorted by size\n",
    "    print(np.allclose(img_ids_img_arr, np.sort(img_ids_annot_arr)), ': all the image ids of metadata for images and '\n",
    "                                                                    'annotations are paired with each other.')\n",
    "\n",
    "    # TODO: check the segmentation, area and bbox column\n",
    "    return None"
   ],
   "metadata": {
    "collapsed": false,
    "pycharm": {
     "name": "#%%\n"
    }
   }
  },
  {
   "cell_type": "markdown",
   "source": [
    "## Define relevant paths"
   ],
   "metadata": {
    "collapsed": false,
    "pycharm": {
     "name": "#%% md\n"
    }
   }
  },
  {
   "cell_type": "code",
   "execution_count": 3,
   "outputs": [
    {
     "name": "stdout",
     "output_type": "stream",
     "text": [
      "currentdir:  F:/Kaggle/sartorius_cell_instance_segmentation/code/rkx_cell_is/analytics\n",
      "project dir:  F:/Kaggle/sartorius_cell_instance_segmentation/code/rkx_cell_is\n"
     ]
    }
   ],
   "source": [
    "current_dir = pathlib2.Path.cwd()\n",
    "# current_dir = os.path.dirname(os.path.abspath(inspect.getfile(inspect.currentframe())))\n",
    "print(\"currentdir: \", current_dir.as_posix())\n",
    "project_dir = current_dir.parent\n",
    "print(\"project dir: \", project_dir.as_posix())"
   ],
   "metadata": {
    "collapsed": false,
    "pycharm": {
     "name": "#%%\n"
    }
   }
  },
  {
   "cell_type": "code",
   "execution_count": 4,
   "outputs": [
    {
     "name": "stdout",
     "output_type": "stream",
     "text": [
      "dataset dir:  F:/Kaggle/sartorius_cell_instance_segmentation/code/rkx_cell_is/dataset\n",
      "livecell dataset dir:  F:/Kaggle/sartorius_cell_instance_segmentation/code/rkx_cell_is/dataset/LIVECell_dataset_2021\n"
     ]
    }
   ],
   "source": [
    "ds_path = project_dir / 'dataset'\n",
    "print(\"dataset dir: \", ds_path.as_posix())\n",
    "livecell_ds_path = ds_path / 'LIVECell_dataset_2021'\n",
    "print(\"livecell dataset dir: \", livecell_ds_path.as_posix())\n",
    "livecell_ds_annot_path, livecell_ds_imgs_path = [x for x in livecell_ds_path.iterdir() if x.is_dir()]\n",
    "\n",
    "livecell_train_meta_path = livecell_ds_annot_path / 'LIVECell' / 'livecell_coco_train.json'\n",
    "livecell_val_meta_path = livecell_ds_annot_path / 'LIVECell' / 'livecell_coco_val.json'\n",
    "livecell_test_meta_path = livecell_ds_annot_path / 'LIVECell' / 'livecell_coco_test.json'\n",
    "\n",
    "livecell_train_val_img_path = livecell_ds_imgs_path / 'livecell_train_val_images'\n",
    "livecell_test_img_path = livecell_ds_imgs_path / 'livecell_test_images'"
   ],
   "metadata": {
    "collapsed": false,
    "pycharm": {
     "name": "#%%\n"
    }
   }
  },
  {
   "cell_type": "markdown",
   "source": [
    "## Training metadata exploration"
   ],
   "metadata": {
    "collapsed": false
   }
  },
  {
   "cell_type": "code",
   "execution_count": 36,
   "outputs": [
    {
     "name": "stdout",
     "output_type": "stream",
     "text": [
      "dict_keys(['images', 'annotations', 'categories', 'info', 'licenses']) \n",
      "\n",
      "\n",
      "the type of images container:  <class 'list'>\n",
      "the first element of <list> images: \n",
      " {'id': 1, 'width': 704, 'height': 520, 'file_name': 'BT474_Phase_A3_2_00d04h00m_3.tif', 'original_filename': 'BT474_Phase_A3_2_00d04h00m_3.png', 'url': 'https://darwin.v7labs.com/api/images/870028/original'} \n",
      "\n",
      "\n",
      "the type of annotations container:  <class 'dict'>\n",
      "the first ten keys of <dict> annotations: \n",
      " ['2', '3', '4', '5', '6', '7', '8', '9', '10', '12']\n",
      "the first item of <dict> annotations has the key: \n",
      " 2 \n",
      "and the value: \n",
      "{'id': 2, 'image_id': 1, 'category_id': 1, 'segmentation': [[288.02, 305.63, 286.01, 298.87, 286.01, 295.4, 288.02, 290.1, 293.86, 287.91, 297.51, 287.73, 300.44, 289.01, 304.27, 292.48, 304.64, 295.04, 305.18, 297.77, 305.18, 300.7, 303.91, 302.52, 301.17, 305.26, 297.33, 307.45, 294.59, 307.45, 290.58, 308.0]], 'area': 307.4786000000313, 'bbox': [286.01, 287.73, 19.170000000000016, 20.269999999999982], 'iscrowd': 0} \n",
      "\n",
      "\n",
      "the type of categories container:  <class 'list'>\n",
      "the only element of <list> categories: \n",
      " {'supercategory': 'cell', 'id': 1, 'name': 'cell'} \n",
      "\n",
      "\n",
      "the type of info container:  <class 'dict'>\n",
      "the keys of <dict> info: \n",
      " dict_keys(['year', 'version', 'description', 'contributor', 'url', 'date_created']) \n",
      "\n",
      "\n",
      "the type of licenses container:  <class 'list'>\n",
      "the first element of <list> licenses: \n",
      " {'id': 1, 'name': 'Attribution-NonCommercial 4.0 International License', 'url': 'https://creativecommons.org/licenses/by-nc/4.0/'}\n"
     ]
    }
   ],
   "source": [
    "train_data = learn_metadata(livecell_train_meta_path)"
   ],
   "metadata": {
    "collapsed": false,
    "pycharm": {
     "name": "#%%\n"
    }
   }
  },
  {
   "cell_type": "markdown",
   "source": [
    "### Metadata: images"
   ],
   "metadata": {
    "collapsed": false,
    "pycharm": {
     "name": "#%% md\n"
    }
   }
  },
  {
   "cell_type": "code",
   "execution_count": 37,
   "outputs": [
    {
     "data": {
      "text/plain": "    id  width  height                         file_name  \\\n0    1    704     520  BT474_Phase_A3_2_00d04h00m_3.tif   \n1  133    704     520  BT474_Phase_C3_2_02d12h00m_4.tif   \n2  323    704     520  BT474_Phase_C3_1_01d16h00m_3.tif   \n3  498    704     520  BT474_Phase_C3_1_02d16h00m_4.tif   \n4  741    704     520  BT474_Phase_C3_1_04d00h00m_3.tif   \n\n                  original_filename  \\\n0  BT474_Phase_A3_2_00d04h00m_3.png   \n1  BT474_Phase_C3_2_02d12h00m_4.png   \n2  BT474_Phase_C3_1_01d16h00m_3.png   \n3  BT474_Phase_C3_1_02d16h00m_4.png   \n4  BT474_Phase_C3_1_04d00h00m_3.png   \n\n                                                 url  \n0  https://darwin.v7labs.com/api/images/870028/or...  \n1  https://darwin.v7labs.com/api/images/37512/ori...  \n2  https://darwin.v7labs.com/api/images/108155/or...  \n3  https://darwin.v7labs.com/api/images/108172/or...  \n4  https://darwin.v7labs.com/api/images/921711/or...  ",
      "text/html": "<div>\n<style scoped>\n    .dataframe tbody tr th:only-of-type {\n        vertical-align: middle;\n    }\n\n    .dataframe tbody tr th {\n        vertical-align: top;\n    }\n\n    .dataframe thead th {\n        text-align: right;\n    }\n</style>\n<table border=\"1\" class=\"dataframe\">\n  <thead>\n    <tr style=\"text-align: right;\">\n      <th></th>\n      <th>id</th>\n      <th>width</th>\n      <th>height</th>\n      <th>file_name</th>\n      <th>original_filename</th>\n      <th>url</th>\n    </tr>\n  </thead>\n  <tbody>\n    <tr>\n      <th>0</th>\n      <td>1</td>\n      <td>704</td>\n      <td>520</td>\n      <td>BT474_Phase_A3_2_00d04h00m_3.tif</td>\n      <td>BT474_Phase_A3_2_00d04h00m_3.png</td>\n      <td>https://darwin.v7labs.com/api/images/870028/or...</td>\n    </tr>\n    <tr>\n      <th>1</th>\n      <td>133</td>\n      <td>704</td>\n      <td>520</td>\n      <td>BT474_Phase_C3_2_02d12h00m_4.tif</td>\n      <td>BT474_Phase_C3_2_02d12h00m_4.png</td>\n      <td>https://darwin.v7labs.com/api/images/37512/ori...</td>\n    </tr>\n    <tr>\n      <th>2</th>\n      <td>323</td>\n      <td>704</td>\n      <td>520</td>\n      <td>BT474_Phase_C3_1_01d16h00m_3.tif</td>\n      <td>BT474_Phase_C3_1_01d16h00m_3.png</td>\n      <td>https://darwin.v7labs.com/api/images/108155/or...</td>\n    </tr>\n    <tr>\n      <th>3</th>\n      <td>498</td>\n      <td>704</td>\n      <td>520</td>\n      <td>BT474_Phase_C3_1_02d16h00m_4.tif</td>\n      <td>BT474_Phase_C3_1_02d16h00m_4.png</td>\n      <td>https://darwin.v7labs.com/api/images/108172/or...</td>\n    </tr>\n    <tr>\n      <th>4</th>\n      <td>741</td>\n      <td>704</td>\n      <td>520</td>\n      <td>BT474_Phase_C3_1_04d00h00m_3.tif</td>\n      <td>BT474_Phase_C3_1_04d00h00m_3.png</td>\n      <td>https://darwin.v7labs.com/api/images/921711/or...</td>\n    </tr>\n  </tbody>\n</table>\n</div>"
     },
     "execution_count": 37,
     "metadata": {},
     "output_type": "execute_result"
    }
   ],
   "source": [
    "df_livecell_train_imgs_meta = pd.DataFrame.from_dict(train_data['images'])\n",
    "df_livecell_train_imgs_meta.head()"
   ],
   "metadata": {
    "collapsed": false,
    "pycharm": {
     "name": "#%%\n"
    }
   }
  },
  {
   "cell_type": "code",
   "execution_count": 7,
   "outputs": [
    {
     "name": "stdout",
     "output_type": "stream",
     "text": [
      "the rows available are all effective, i.e., without NaNs.\n",
      "there are 3253 items in the image metadata frame.\n",
      "there are 3253 unique ids (not images) in the image metadata frame.\n",
      "True : the ids are sorted by size.\n",
      "True : all the images are of size (704, 520).\n",
      "all files are extended by .tff.\n",
      "there are 3188 unique file names in the image metadata frame.\n"
     ]
    }
   ],
   "source": [
    "# check the validity of metadata of image\n",
    "len_df_train_img = 0\n",
    "len_train_img_ids = 0\n",
    "non_duplicated_train_filenames = pd.DataFrame()\n",
    "if check_noneffective_ids(df_livecell_train_imgs_meta) is None:\n",
    "    train_check_results = check_meta_images_df(df_livecell_train_imgs_meta)\n",
    "    if len(train_check_results) == 2:\n",
    "        len_df_train_img, len_train_img_ids = train_check_results\n",
    "    elif len(train_check_results) == 3:\n",
    "        len_df_train_img, len_train_img_ids, non_duplicated_train_filenames = train_check_results\n",
    "else:\n",
    "    print('There are non-valid metadata in terms of image. Please handle it!')"
   ],
   "metadata": {
    "collapsed": false,
    "pycharm": {
     "name": "#%%\n"
    }
   }
  },
  {
   "cell_type": "code",
   "execution_count": 8,
   "outputs": [
    {
     "name": "stdout",
     "output_type": "stream",
     "text": [
      "the meta data of image has 3188 non-duplicated rows in terms of file_name.\n"
     ]
    }
   ],
   "source": [
    "print(f\"the meta data of image has {non_duplicated_train_filenames.shape[0]} non-duplicated rows in terms of file_name.\")"
   ],
   "metadata": {
    "collapsed": false,
    "pycharm": {
     "name": "#%%\n"
    }
   }
  },
  {
   "cell_type": "code",
   "execution_count": 9,
   "outputs": [
    {
     "data": {
      "text/plain": "           id  width  height                         file_name  \\\n1500   742297    704     520  Huh7_Phase_A10_2_00d16h00m_4.tif   \n1726  1012330    704     520  Huh7_Phase_A10_2_00d16h00m_4.tif   \n\n                     original_filename  \\\n1500  Huh7_Phase_A10_2_00d16h00m_4.png   \n1726  Huh7_Phase_A10_2_00d16h00m_4.png   \n\n                                                    url  \n1500  https://darwin.v7labs.com/api/images/37624/ori...  \n1726  https://darwin.v7labs.com/api/images/47430/ori...  ",
      "text/html": "<div>\n<style scoped>\n    .dataframe tbody tr th:only-of-type {\n        vertical-align: middle;\n    }\n\n    .dataframe tbody tr th {\n        vertical-align: top;\n    }\n\n    .dataframe thead th {\n        text-align: right;\n    }\n</style>\n<table border=\"1\" class=\"dataframe\">\n  <thead>\n    <tr style=\"text-align: right;\">\n      <th></th>\n      <th>id</th>\n      <th>width</th>\n      <th>height</th>\n      <th>file_name</th>\n      <th>original_filename</th>\n      <th>url</th>\n    </tr>\n  </thead>\n  <tbody>\n    <tr>\n      <th>1500</th>\n      <td>742297</td>\n      <td>704</td>\n      <td>520</td>\n      <td>Huh7_Phase_A10_2_00d16h00m_4.tif</td>\n      <td>Huh7_Phase_A10_2_00d16h00m_4.png</td>\n      <td>https://darwin.v7labs.com/api/images/37624/ori...</td>\n    </tr>\n    <tr>\n      <th>1726</th>\n      <td>1012330</td>\n      <td>704</td>\n      <td>520</td>\n      <td>Huh7_Phase_A10_2_00d16h00m_4.tif</td>\n      <td>Huh7_Phase_A10_2_00d16h00m_4.png</td>\n      <td>https://darwin.v7labs.com/api/images/47430/ori...</td>\n    </tr>\n  </tbody>\n</table>\n</div>"
     },
     "execution_count": 9,
     "metadata": {},
     "output_type": "execute_result"
    }
   ],
   "source": [
    "# one example (extracted from the duplicated file_names) to justify the duplication in terms of the file_name\n",
    "\n",
    "df_livecell_train_imgs_meta[df_livecell_train_imgs_meta['file_name'].str.contains('Huh7_Phase_A10_2_00d16h00m_4.tif',\n",
    "                                                                                  regex=False)]"
   ],
   "metadata": {
    "collapsed": false,
    "pycharm": {
     "name": "#%%\n"
    }
   }
  },
  {
   "cell_type": "markdown",
   "source": [
    "### Metadata: annotations"
   ],
   "metadata": {
    "collapsed": false
   }
  },
  {
   "cell_type": "code",
   "execution_count": 17,
   "outputs": [
    {
     "data": {
      "text/plain": "   id  image_id  category_id  \\\n2   2         1            1   \n3   3         1            1   \n4   4         1            1   \n5   5         1            1   \n6   6         1            1   \n\n                                        segmentation       area  \\\n2  [[288.02, 305.63, 286.01, 298.87, 286.01, 295....  307.47860   \n3  [[271.22, 323.34, 267.93, 322.61, 266.29, 320....  247.47555   \n4  [[284.91, 279.88, 289.85, 281.52, 293.31, 281....  245.22945   \n5  [[260.86, 327.64, 258.19, 325.63, 255.25, 324....  574.21305   \n6  [[241.75, 324.69, 239.61, 326.97, 236.27, 331....  296.31140   \n\n                                                bbox  iscrowd  \n2  [286.01, 287.73, 19.170000000000016, 20.269999...        0  \n3  [263.0, 304.9, 20.44999999999999, 18.439999999...        0  \n4  [275.42, 277.14, 23.91999999999996, 17.1600000...        0  \n5          [246.96, 280.72, 20.98999999999998, 54.0]        0  \n6        [229.45, 302.91, 22.590000000000003, 32.75]        0  ",
      "text/html": "<div>\n<style scoped>\n    .dataframe tbody tr th:only-of-type {\n        vertical-align: middle;\n    }\n\n    .dataframe tbody tr th {\n        vertical-align: top;\n    }\n\n    .dataframe thead th {\n        text-align: right;\n    }\n</style>\n<table border=\"1\" class=\"dataframe\">\n  <thead>\n    <tr style=\"text-align: right;\">\n      <th></th>\n      <th>id</th>\n      <th>image_id</th>\n      <th>category_id</th>\n      <th>segmentation</th>\n      <th>area</th>\n      <th>bbox</th>\n      <th>iscrowd</th>\n    </tr>\n  </thead>\n  <tbody>\n    <tr>\n      <th>2</th>\n      <td>2</td>\n      <td>1</td>\n      <td>1</td>\n      <td>[[288.02, 305.63, 286.01, 298.87, 286.01, 295....</td>\n      <td>307.47860</td>\n      <td>[286.01, 287.73, 19.170000000000016, 20.269999...</td>\n      <td>0</td>\n    </tr>\n    <tr>\n      <th>3</th>\n      <td>3</td>\n      <td>1</td>\n      <td>1</td>\n      <td>[[271.22, 323.34, 267.93, 322.61, 266.29, 320....</td>\n      <td>247.47555</td>\n      <td>[263.0, 304.9, 20.44999999999999, 18.439999999...</td>\n      <td>0</td>\n    </tr>\n    <tr>\n      <th>4</th>\n      <td>4</td>\n      <td>1</td>\n      <td>1</td>\n      <td>[[284.91, 279.88, 289.85, 281.52, 293.31, 281....</td>\n      <td>245.22945</td>\n      <td>[275.42, 277.14, 23.91999999999996, 17.1600000...</td>\n      <td>0</td>\n    </tr>\n    <tr>\n      <th>5</th>\n      <td>5</td>\n      <td>1</td>\n      <td>1</td>\n      <td>[[260.86, 327.64, 258.19, 325.63, 255.25, 324....</td>\n      <td>574.21305</td>\n      <td>[246.96, 280.72, 20.98999999999998, 54.0]</td>\n      <td>0</td>\n    </tr>\n    <tr>\n      <th>6</th>\n      <td>6</td>\n      <td>1</td>\n      <td>1</td>\n      <td>[[241.75, 324.69, 239.61, 326.97, 236.27, 331....</td>\n      <td>296.31140</td>\n      <td>[229.45, 302.91, 22.590000000000003, 32.75]</td>\n      <td>0</td>\n    </tr>\n  </tbody>\n</table>\n</div>"
     },
     "execution_count": 17,
     "metadata": {},
     "output_type": "execute_result"
    }
   ],
   "source": [
    "# dataframe of annotations dict\n",
    "\n",
    "df_livecell_train_annots_meta = pd.DataFrame.from_dict(train_data['annotations'], orient='index')\n",
    "df_livecell_train_annots_meta.head()"
   ],
   "metadata": {
    "collapsed": false,
    "pycharm": {
     "name": "#%%\n"
    }
   }
  },
  {
   "cell_type": "code",
   "execution_count": 59,
   "outputs": [
    {
     "name": "stdout",
     "output_type": "stream",
     "text": [
      "the rows available are all effective, i.e., without NaNs.\n"
     ]
    }
   ],
   "source": [
    "check_noneffective_ids(df_livecell_train_annots_meta)"
   ],
   "metadata": {
    "collapsed": false,
    "pycharm": {
     "name": "#%%\n"
    }
   }
  },
  {
   "cell_type": "code",
   "execution_count": 38,
   "outputs": [
    {
     "name": "stdout",
     "output_type": "stream",
     "text": [
      "True : The index values and values of the id column of annotations metadata in form of data frame is elementwise equal.\n",
      "there are 1018576 unique ids in the metadata for annotations.\n",
      "there are 3253 unique image ids in the metadata for annotations.\n",
      "there are 1 unique categories in the metadata for annotations.\n",
      "there are 1 unique values of iscrowd in the metadata for annotations.\n",
      "True : all the image ids of metadata for images and annotations are paired with each other.\n"
     ]
    }
   ],
   "source": [
    "check_meta_annots_df(df_livecell_train_imgs_meta, df_livecell_train_annots_meta)"
   ],
   "metadata": {
    "collapsed": false,
    "pycharm": {
     "name": "#%%\n"
    }
   }
  },
  {
   "cell_type": "markdown",
   "source": [
    "### Partial conclusions of training metadata - images and annotations\n",
    "\n",
    "- Both the *image_id* column in the metadata for annotations and the *id* column in the metadata for images have the same\n",
    "unique image ids. That means, all the images ids on both sides can be paired with each other."
   ],
   "metadata": {
    "collapsed": false,
    "pycharm": {
     "name": "#%% md\n"
    }
   }
  },
  {
   "cell_type": "markdown",
   "source": [
    "### Metadata: categories"
   ],
   "metadata": {
    "collapsed": false,
    "pycharm": {
     "name": "#%% md\n"
    }
   }
  },
  {
   "cell_type": "code",
   "execution_count": 14,
   "outputs": [
    {
     "data": {
      "text/plain": "[{'supercategory': 'cell', 'id': 1, 'name': 'cell'}]"
     },
     "execution_count": 14,
     "metadata": {},
     "output_type": "execute_result"
    }
   ],
   "source": [
    "train_data['categories']"
   ],
   "metadata": {
    "collapsed": false,
    "pycharm": {
     "name": "#%%\n"
    }
   }
  },
  {
   "cell_type": "markdown",
   "source": [
    "### Metadata: info"
   ],
   "metadata": {
    "collapsed": false
   }
  },
  {
   "cell_type": "code",
   "execution_count": 43,
   "outputs": [
    {
     "data": {
      "text/plain": "{'year': '2020',\n 'version': '1.0',\n 'description': 'LIVECell 2021 Dataset',\n 'contributor': 'Sartorius',\n 'url': 'https://osf.io/6kang/?view_only=da0516e9189b4dbdbf018475113ed343',\n 'date_created': '2021/01/19'}"
     },
     "execution_count": 43,
     "metadata": {},
     "output_type": "execute_result"
    }
   ],
   "source": [
    "train_data['info']"
   ],
   "metadata": {
    "collapsed": false,
    "pycharm": {
     "name": "#%%\n"
    }
   }
  },
  {
   "cell_type": "markdown",
   "source": [
    "### Metadata: licenses"
   ],
   "metadata": {
    "collapsed": false
   }
  },
  {
   "cell_type": "code",
   "execution_count": 44,
   "outputs": [
    {
     "data": {
      "text/plain": "[{'id': 1,\n  'name': 'Attribution-NonCommercial 4.0 International License',\n  'url': 'https://creativecommons.org/licenses/by-nc/4.0/'}]"
     },
     "execution_count": 44,
     "metadata": {},
     "output_type": "execute_result"
    }
   ],
   "source": [
    "train_data['licenses']"
   ],
   "metadata": {
    "collapsed": false,
    "pycharm": {
     "name": "#%%\n"
    }
   }
  },
  {
   "cell_type": "markdown",
   "source": [
    "## Validation metadata exploration"
   ],
   "metadata": {
    "collapsed": false
   }
  },
  {
   "cell_type": "code",
   "execution_count": 10,
   "outputs": [
    {
     "name": "stdout",
     "output_type": "stream",
     "text": [
      "dict_keys(['images', 'annotations', 'categories', 'info', 'licenses']) \n",
      "\n",
      "\n",
      "the type of images container:  <class 'list'>\n",
      "the first element of <list> images: \n",
      " {'id': 86187, 'width': 704, 'height': 520, 'file_name': 'BT474_Phase_B3_1_00d12h00m_1.tif', 'original_filename': 'BT474_Phase_B3_1_00d12h00m_1.png', 'url': 'https://darwin.v7labs.com/api/images/31634/original'} \n",
      "\n",
      "\n",
      "the type of annotations container:  <class 'dict'>\n",
      "the first ten keys of <dict> annotations: \n",
      " ['86188', '86189', '86190', '86191', '86192', '86193', '86194', '86195', '86196', '86197']\n",
      "the first item of <dict> annotations has the key: \n",
      " 86188 \n",
      "and the value: \n",
      "{'id': 86188, 'image_id': 86187, 'category_id': 1, 'segmentation': [[704.0, 97.82, 696.67, 94.77, 691.43, 89.32, 690.68, 86.64, 691.43, 82.96, 694.0, 79.53, 699.08, 78.52, 703.89, 78.15]], 'area': 193.82679999998072, 'bbox': [690.68, 78.15, 13.32000000000005, 19.669999999999987], 'iscrowd': 0} \n",
      "\n",
      "\n",
      "the type of categories container:  <class 'list'>\n",
      "the only element of <list> categories: \n",
      " {'supercategory': 'cell', 'id': 1, 'name': 'cell'} \n",
      "\n",
      "\n",
      "the type of info container:  <class 'dict'>\n",
      "the keys of <dict> info: \n",
      " dict_keys(['year', 'version', 'description', 'contributor', 'url', 'date_created']) \n",
      "\n",
      "\n",
      "the type of licenses container:  <class 'list'>\n",
      "the first element of <list> licenses: \n",
      " {'id': 1, 'name': 'Attribution-NonCommercial 4.0 International License', 'url': 'https://creativecommons.org/licenses/by-nc/4.0/'}\n"
     ]
    }
   ],
   "source": [
    "val_data = learn_metadata(livecell_val_meta_path)"
   ],
   "metadata": {
    "collapsed": false,
    "pycharm": {
     "name": "#%%\n"
    }
   }
  },
  {
   "cell_type": "markdown",
   "source": [
    "### Metadata: images"
   ],
   "metadata": {
    "collapsed": false
   }
  },
  {
   "cell_type": "code",
   "execution_count": 11,
   "outputs": [
    {
     "data": {
      "text/plain": "      id  width  height                         file_name  \\\n0  86187    704     520  BT474_Phase_B3_1_00d12h00m_1.tif   \n1  86330    704     520  BT474_Phase_C3_2_02d16h00m_4.tif   \n2  86516    704     520  BT474_Phase_C3_2_02d12h00m_3.tif   \n3  86708    704     520  BT474_Phase_B3_1_05d00h00m_3.tif   \n4  87048    704     520  BT474_Phase_B3_2_04d04h00m_4.tif   \n\n                  original_filename  \\\n0  BT474_Phase_B3_1_00d12h00m_1.png   \n1  BT474_Phase_C3_2_02d16h00m_4.png   \n2  BT474_Phase_C3_2_02d12h00m_3.png   \n3  BT474_Phase_B3_1_05d00h00m_3.png   \n4  BT474_Phase_B3_2_04d04h00m_4.png   \n\n                                                 url  \n0  https://darwin.v7labs.com/api/images/31634/ori...  \n1  https://darwin.v7labs.com/api/images/37516/ori...  \n2  https://darwin.v7labs.com/api/images/37511/ori...  \n3  https://darwin.v7labs.com/api/images/921840/or...  \n4  https://darwin.v7labs.com/api/images/47298/ori...  ",
      "text/html": "<div>\n<style scoped>\n    .dataframe tbody tr th:only-of-type {\n        vertical-align: middle;\n    }\n\n    .dataframe tbody tr th {\n        vertical-align: top;\n    }\n\n    .dataframe thead th {\n        text-align: right;\n    }\n</style>\n<table border=\"1\" class=\"dataframe\">\n  <thead>\n    <tr style=\"text-align: right;\">\n      <th></th>\n      <th>id</th>\n      <th>width</th>\n      <th>height</th>\n      <th>file_name</th>\n      <th>original_filename</th>\n      <th>url</th>\n    </tr>\n  </thead>\n  <tbody>\n    <tr>\n      <th>0</th>\n      <td>86187</td>\n      <td>704</td>\n      <td>520</td>\n      <td>BT474_Phase_B3_1_00d12h00m_1.tif</td>\n      <td>BT474_Phase_B3_1_00d12h00m_1.png</td>\n      <td>https://darwin.v7labs.com/api/images/31634/ori...</td>\n    </tr>\n    <tr>\n      <th>1</th>\n      <td>86330</td>\n      <td>704</td>\n      <td>520</td>\n      <td>BT474_Phase_C3_2_02d16h00m_4.tif</td>\n      <td>BT474_Phase_C3_2_02d16h00m_4.png</td>\n      <td>https://darwin.v7labs.com/api/images/37516/ori...</td>\n    </tr>\n    <tr>\n      <th>2</th>\n      <td>86516</td>\n      <td>704</td>\n      <td>520</td>\n      <td>BT474_Phase_C3_2_02d12h00m_3.tif</td>\n      <td>BT474_Phase_C3_2_02d12h00m_3.png</td>\n      <td>https://darwin.v7labs.com/api/images/37511/ori...</td>\n    </tr>\n    <tr>\n      <th>3</th>\n      <td>86708</td>\n      <td>704</td>\n      <td>520</td>\n      <td>BT474_Phase_B3_1_05d00h00m_3.tif</td>\n      <td>BT474_Phase_B3_1_05d00h00m_3.png</td>\n      <td>https://darwin.v7labs.com/api/images/921840/or...</td>\n    </tr>\n    <tr>\n      <th>4</th>\n      <td>87048</td>\n      <td>704</td>\n      <td>520</td>\n      <td>BT474_Phase_B3_2_04d04h00m_4.tif</td>\n      <td>BT474_Phase_B3_2_04d04h00m_4.png</td>\n      <td>https://darwin.v7labs.com/api/images/47298/ori...</td>\n    </tr>\n  </tbody>\n</table>\n</div>"
     },
     "execution_count": 11,
     "metadata": {},
     "output_type": "execute_result"
    }
   ],
   "source": [
    "df_livecell_val_imgs_meta = pd.DataFrame.from_dict(val_data['images'])\n",
    "df_livecell_val_imgs_meta.head()"
   ],
   "metadata": {
    "collapsed": false,
    "pycharm": {
     "name": "#%%\n"
    }
   }
  },
  {
   "cell_type": "code",
   "execution_count": 12,
   "outputs": [
    {
     "name": "stdout",
     "output_type": "stream",
     "text": [
      "the rows available are all effective, i.e., without NaNs.\n",
      "there are 570 items in the image metadata frame.\n",
      "there are 570 unique ids (not images) in the image metadata frame.\n",
      "True : the ids are sorted by size.\n",
      "True : all the images are of size (704, 520).\n",
      "all files are extended by .tff.\n",
      "there are 569 unique file names in the image metadata frame.\n"
     ]
    }
   ],
   "source": [
    "# check the validity of metadata of image\n",
    "len_df_val_img = 0\n",
    "len_val_img_ids = 0\n",
    "non_duplicated_val_filenames = pd.DataFrame()\n",
    "if check_noneffective_ids(df_livecell_val_imgs_meta) is None:\n",
    "    val_check_results = check_meta_images_df(df_livecell_val_imgs_meta)\n",
    "    if len(val_check_results) == 2:\n",
    "        len_df_val_img, len_val_img_ids = val_check_results\n",
    "    elif len(val_check_results) == 3:\n",
    "        len_df_val_img, len_val_img_ids, non_duplicated_val_filenames = val_check_results\n",
    "else:\n",
    "    print('There are non-valid metadata in terms of image. Please handle it!')"
   ],
   "metadata": {
    "collapsed": false,
    "pycharm": {
     "name": "#%%\n"
    }
   }
  },
  {
   "cell_type": "code",
   "execution_count": 13,
   "outputs": [
    {
     "name": "stdout",
     "output_type": "stream",
     "text": [
      "the meta data of image has 569 non-duplicated rows in terms of file_name.\n"
     ]
    }
   ],
   "source": [
    "print(f\"the meta data of image has {non_duplicated_val_filenames.shape[0]} non-duplicated rows in terms of file_name.\")"
   ],
   "metadata": {
    "collapsed": false,
    "pycharm": {
     "name": "#%%\n"
    }
   }
  },
  {
   "cell_type": "code",
   "execution_count": 14,
   "outputs": [
    {
     "data": {
      "text/plain": "          id  width  height                         file_name  \\\n229   876543    704     520  Huh7_Phase_A10_2_00d04h00m_2.tif   \n354  1037056    704     520  Huh7_Phase_A10_2_00d04h00m_2.tif   \n\n                    original_filename  \\\n229  Huh7_Phase_A10_2_00d04h00m_2.png   \n354  Huh7_Phase_A10_2_00d04h00m_2.png   \n\n                                                   url  \n229  https://darwin.v7labs.com/api/images/37610/ori...  \n354  https://darwin.v7labs.com/api/images/47416/ori...  ",
      "text/html": "<div>\n<style scoped>\n    .dataframe tbody tr th:only-of-type {\n        vertical-align: middle;\n    }\n\n    .dataframe tbody tr th {\n        vertical-align: top;\n    }\n\n    .dataframe thead th {\n        text-align: right;\n    }\n</style>\n<table border=\"1\" class=\"dataframe\">\n  <thead>\n    <tr style=\"text-align: right;\">\n      <th></th>\n      <th>id</th>\n      <th>width</th>\n      <th>height</th>\n      <th>file_name</th>\n      <th>original_filename</th>\n      <th>url</th>\n    </tr>\n  </thead>\n  <tbody>\n    <tr>\n      <th>229</th>\n      <td>876543</td>\n      <td>704</td>\n      <td>520</td>\n      <td>Huh7_Phase_A10_2_00d04h00m_2.tif</td>\n      <td>Huh7_Phase_A10_2_00d04h00m_2.png</td>\n      <td>https://darwin.v7labs.com/api/images/37610/ori...</td>\n    </tr>\n    <tr>\n      <th>354</th>\n      <td>1037056</td>\n      <td>704</td>\n      <td>520</td>\n      <td>Huh7_Phase_A10_2_00d04h00m_2.tif</td>\n      <td>Huh7_Phase_A10_2_00d04h00m_2.png</td>\n      <td>https://darwin.v7labs.com/api/images/47416/ori...</td>\n    </tr>\n  </tbody>\n</table>\n</div>"
     },
     "execution_count": 14,
     "metadata": {},
     "output_type": "execute_result"
    }
   ],
   "source": [
    "# the only example to justify the duplication in terms of the file_name\n",
    "\n",
    "df_livecell_val_imgs_meta[df_livecell_val_imgs_meta['file_name'].str.contains('Huh7_Phase_A10_2_00d04h00m_2.tif',\n",
    "                                                                                  regex=False)]"
   ],
   "metadata": {
    "collapsed": false,
    "pycharm": {
     "name": "#%%\n"
    }
   }
  },
  {
   "cell_type": "code",
   "execution_count": 37,
   "outputs": [
    {
     "name": "stdout",
     "output_type": "stream",
     "text": [
      "there are image file names overlapped! So we need to remove those duplicated.\n",
      "the number of valid images in dir livecell_train_val_images is: 4184.\n",
      "the number of unique filenames in column file_name is: 3727.\n",
      "all unique filenames in column file_name have the corresponding images.\n"
     ]
    }
   ],
   "source": [
    "# check the correspondence between file_name column and the corresponding images in terms of training and validation\n",
    "# dataset\n",
    "\n",
    "concat_series = pd.concat([non_duplicated_train_filenames['file_name'], non_duplicated_val_filenames['file_name']],\n",
    "                          ignore_index=True, sort=False)\n",
    "if concat_series.unique().shape[0] == concat_series.shape[0]:\n",
    "    print('there is no image file name from columns training file_name and validation file_name overlapped.')\n",
    "elif concat_series.unique().shape[0] < concat_series.shape[0]:\n",
    "    print('there are image file names overlapped! So we need to remove those duplicated.')\n",
    "    concat_series = pd.Series(concat_series.unique(), name='file_name')\n",
    "check_filename_correspondence(concat_series, livecell_train_val_img_path)"
   ],
   "metadata": {
    "collapsed": false,
    "pycharm": {
     "name": "#%%\n"
    }
   }
  },
  {
   "cell_type": "markdown",
   "source": [
    "### Partial conclusions of training and validation metadata - images\n",
    "According to the result of the blocks above, it can be derived that\n",
    "\n",
    "- While the overall image file names of metadata for training images count to **3253**, the unique image file names (\n",
    "including the first file_name of duplicated ones) count to **3188**.\n",
    "- While the overall image file names of metadata for validation images count to **570**, the unique image file names (\n",
    "including the first file_name of duplicated ones) count to **569**.\n",
    "- Taking account of both the unique image file names of metadata for training images and metadata for validation images,\n",
    "there are still overlapping image file names between them both, counting to **30**. Thus, the unique image file names of\n",
    "the training and validation metadata are **3727 (= 3188 + 569 - 30)**. **However, it's not sufficient to say that the\n",
    "overlapping image file names represent the corresponding images to be deprecated in either party, i.e., training or\n",
    "validation images. There should be more investigation into the annotation metadata and the LIVECell repo, in order to\n",
    "make the relevant decision.**\n",
    "- All the unique image file names of metadata for training images and metadata for validation images have the corresponding\n",
    "images that can be found."
   ],
   "metadata": {
    "collapsed": false
   }
  },
  {
   "cell_type": "markdown",
   "source": [
    "## Testing metadata exploration"
   ],
   "metadata": {
    "collapsed": false,
    "pycharm": {
     "name": "#%% md\n"
    }
   }
  },
  {
   "cell_type": "code",
   "execution_count": 5,
   "outputs": [
    {
     "name": "stdout",
     "output_type": "stream",
     "text": [
      "dict_keys(['images', 'annotations', 'categories', 'info', 'licenses']) \n",
      "\n",
      "\n",
      "the type of images container:  <class 'list'>\n",
      "the first element of <list> images: \n",
      " {'id': 101438, 'width': 704, 'height': 520, 'file_name': 'BT474_Phase_D3_1_04d04h00m_3.tif', 'original_filename': 'BT474_Phase_D3_1_04d04h00m_3.png', 'url': 'https://darwin.v7labs.com/api/images/870104/original'} \n",
      "\n",
      "\n",
      "the type of annotations container:  <class 'dict'>\n",
      "the first ten keys of <dict> annotations: \n",
      " ['101439', '101440', '101441', '101442', '101443', '101444', '101445', '101446', '101447', '101448']\n",
      "the first item of <dict> annotations has the key: \n",
      " 101439 \n",
      "and the value: \n",
      "{'id': 101439, 'image_id': 101438, 'category_id': 1, 'segmentation': [[281.6, 234.28, 292.24, 236.48, 298.84, 239.04, 305.08, 239.41, 308.38, 239.41, 310.21, 236.11, 310.21, 230.61, 308.75, 226.21, 304.34, 220.71, 302.88, 218.14, 300.68, 214.47, 296.64, 216.3, 288.94, 216.3, 287.11, 219.61, 284.17, 226.94]], 'area': 492.789049999963, 'bbox': [281.6, 214.47, 28.609999999999957, 24.939999999999998], 'iscrowd': 0} \n",
      "\n",
      "\n",
      "the type of categories container:  <class 'list'>\n",
      "the only element of <list> categories: \n",
      " {'supercategory': 'cell', 'id': 1, 'name': 'cell'} \n",
      "\n",
      "\n",
      "the type of info container:  <class 'dict'>\n",
      "the keys of <dict> info: \n",
      " dict_keys(['year', 'version', 'description', 'contributor', 'url', 'date_created']) \n",
      "\n",
      "\n",
      "the type of licenses container:  <class 'list'>\n",
      "the first element of <list> licenses: \n",
      " {'id': 1, 'name': 'Attribution-NonCommercial 4.0 International License', 'url': 'https://creativecommons.org/licenses/by-nc/4.0/'}\n"
     ]
    }
   ],
   "source": [
    "test_data = learn_metadata(livecell_test_meta_path)"
   ],
   "metadata": {
    "collapsed": false,
    "pycharm": {
     "name": "#%%\n"
    }
   }
  },
  {
   "cell_type": "markdown",
   "source": [
    "### Metadata: images"
   ],
   "metadata": {
    "collapsed": false
   }
  },
  {
   "cell_type": "code",
   "execution_count": 7,
   "outputs": [
    {
     "data": {
      "text/plain": "       id  width  height                         file_name  \\\n0  101438    704     520  BT474_Phase_D3_1_04d04h00m_3.tif   \n1  101798    704     520  BT474_Phase_D3_2_03d04h00m_2.tif   \n2  101943    704     520  BT474_Phase_D3_1_01d12h00m_4.tif   \n3  102143    704     520  BT474_Phase_D3_2_04d16h00m_1.tif   \n4  102490    704     520  BT474_Phase_D3_2_00d12h00m_3.tif   \n\n                  original_filename  \\\n0  BT474_Phase_D3_1_04d04h00m_3.png   \n1  BT474_Phase_D3_2_03d04h00m_2.png   \n2  BT474_Phase_D3_1_01d12h00m_4.png   \n3  BT474_Phase_D3_2_04d16h00m_1.png   \n4  BT474_Phase_D3_2_00d12h00m_3.png   \n\n                                                 url  \n0  https://darwin.v7labs.com/api/images/870104/or...  \n1  https://darwin.v7labs.com/api/images/61733/ori...  \n2  https://darwin.v7labs.com/api/images/921720/or...  \n3  https://darwin.v7labs.com/api/images/37521/ori...  \n4  https://darwin.v7labs.com/api/images/921792/or...  ",
      "text/html": "<div>\n<style scoped>\n    .dataframe tbody tr th:only-of-type {\n        vertical-align: middle;\n    }\n\n    .dataframe tbody tr th {\n        vertical-align: top;\n    }\n\n    .dataframe thead th {\n        text-align: right;\n    }\n</style>\n<table border=\"1\" class=\"dataframe\">\n  <thead>\n    <tr style=\"text-align: right;\">\n      <th></th>\n      <th>id</th>\n      <th>width</th>\n      <th>height</th>\n      <th>file_name</th>\n      <th>original_filename</th>\n      <th>url</th>\n    </tr>\n  </thead>\n  <tbody>\n    <tr>\n      <th>0</th>\n      <td>101438</td>\n      <td>704</td>\n      <td>520</td>\n      <td>BT474_Phase_D3_1_04d04h00m_3.tif</td>\n      <td>BT474_Phase_D3_1_04d04h00m_3.png</td>\n      <td>https://darwin.v7labs.com/api/images/870104/or...</td>\n    </tr>\n    <tr>\n      <th>1</th>\n      <td>101798</td>\n      <td>704</td>\n      <td>520</td>\n      <td>BT474_Phase_D3_2_03d04h00m_2.tif</td>\n      <td>BT474_Phase_D3_2_03d04h00m_2.png</td>\n      <td>https://darwin.v7labs.com/api/images/61733/ori...</td>\n    </tr>\n    <tr>\n      <th>2</th>\n      <td>101943</td>\n      <td>704</td>\n      <td>520</td>\n      <td>BT474_Phase_D3_1_01d12h00m_4.tif</td>\n      <td>BT474_Phase_D3_1_01d12h00m_4.png</td>\n      <td>https://darwin.v7labs.com/api/images/921720/or...</td>\n    </tr>\n    <tr>\n      <th>3</th>\n      <td>102143</td>\n      <td>704</td>\n      <td>520</td>\n      <td>BT474_Phase_D3_2_04d16h00m_1.tif</td>\n      <td>BT474_Phase_D3_2_04d16h00m_1.png</td>\n      <td>https://darwin.v7labs.com/api/images/37521/ori...</td>\n    </tr>\n    <tr>\n      <th>4</th>\n      <td>102490</td>\n      <td>704</td>\n      <td>520</td>\n      <td>BT474_Phase_D3_2_00d12h00m_3.tif</td>\n      <td>BT474_Phase_D3_2_00d12h00m_3.png</td>\n      <td>https://darwin.v7labs.com/api/images/921792/or...</td>\n    </tr>\n  </tbody>\n</table>\n</div>"
     },
     "execution_count": 7,
     "metadata": {},
     "output_type": "execute_result"
    }
   ],
   "source": [
    "df_livecell_test_imgs_meta = pd.DataFrame.from_dict(test_data['images'])\n",
    "df_livecell_test_imgs_meta.head()"
   ],
   "metadata": {
    "collapsed": false,
    "pycharm": {
     "name": "#%%\n"
    }
   }
  },
  {
   "cell_type": "code",
   "execution_count": 8,
   "outputs": [
    {
     "name": "stdout",
     "output_type": "stream",
     "text": [
      "the rows available are all effective, i.e., without NaNs.\n",
      "there are 1564 items in the image metadata frame.\n",
      "there are 1564 unique ids (not images) in the image metadata frame.\n",
      "True : the ids are sorted by size.\n",
      "True : all the images are of size (704, 520).\n",
      "all files are extended by .tff.\n",
      "there are 1512 unique file names in the image metadata frame.\n"
     ]
    }
   ],
   "source": [
    "# check the validity of metadata of image\n",
    "len_df_test_img = 0\n",
    "len_test_img_ids = 0\n",
    "non_duplicated_test_filenames = pd.DataFrame()\n",
    "if check_noneffective_ids(df_livecell_test_imgs_meta) is None:\n",
    "    test_check_results = check_meta_images_df(df_livecell_test_imgs_meta)\n",
    "    if len(test_check_results) == 2:\n",
    "        len_df_test_img, len_test_img_ids = test_check_results\n",
    "    elif len(test_check_results) == 3:\n",
    "        len_df_test_img, len_test_img_ids, non_duplicated_test_filenames = test_check_results\n",
    "else:\n",
    "    print('There are non-valid metadata in terms of image. Please handle it!')"
   ],
   "metadata": {
    "collapsed": false,
    "pycharm": {
     "name": "#%%\n"
    }
   }
  },
  {
   "cell_type": "code",
   "execution_count": 10,
   "outputs": [
    {
     "name": "stdout",
     "output_type": "stream",
     "text": [
      "the meta data of image has 1512 non-duplicated rows in terms of file_name.\n"
     ]
    }
   ],
   "source": [
    "print(f\"the meta data of image has {non_duplicated_test_filenames.shape[0]} non-duplicated rows in terms of file_name.\")"
   ],
   "metadata": {
    "collapsed": false,
    "pycharm": {
     "name": "#%%\n"
    }
   }
  },
  {
   "cell_type": "code",
   "execution_count": 11,
   "outputs": [
    {
     "data": {
      "text/plain": "          id  width  height                         file_name  \\\n504   918641    704     520  Huh7_Phase_A12_1_03d16h00m_2.tif   \n690  1038567    704     520  Huh7_Phase_A12_1_03d16h00m_2.tif   \n\n                    original_filename  \\\n504  Huh7_Phase_A12_1_03d16h00m_2.png   \n690  Huh7_Phase_A12_1_03d16h00m_2.png   \n\n                                                   url  \n504  https://darwin.v7labs.com/api/images/37666/ori...  \n690  https://darwin.v7labs.com/api/images/47472/ori...  ",
      "text/html": "<div>\n<style scoped>\n    .dataframe tbody tr th:only-of-type {\n        vertical-align: middle;\n    }\n\n    .dataframe tbody tr th {\n        vertical-align: top;\n    }\n\n    .dataframe thead th {\n        text-align: right;\n    }\n</style>\n<table border=\"1\" class=\"dataframe\">\n  <thead>\n    <tr style=\"text-align: right;\">\n      <th></th>\n      <th>id</th>\n      <th>width</th>\n      <th>height</th>\n      <th>file_name</th>\n      <th>original_filename</th>\n      <th>url</th>\n    </tr>\n  </thead>\n  <tbody>\n    <tr>\n      <th>504</th>\n      <td>918641</td>\n      <td>704</td>\n      <td>520</td>\n      <td>Huh7_Phase_A12_1_03d16h00m_2.tif</td>\n      <td>Huh7_Phase_A12_1_03d16h00m_2.png</td>\n      <td>https://darwin.v7labs.com/api/images/37666/ori...</td>\n    </tr>\n    <tr>\n      <th>690</th>\n      <td>1038567</td>\n      <td>704</td>\n      <td>520</td>\n      <td>Huh7_Phase_A12_1_03d16h00m_2.tif</td>\n      <td>Huh7_Phase_A12_1_03d16h00m_2.png</td>\n      <td>https://darwin.v7labs.com/api/images/47472/ori...</td>\n    </tr>\n  </tbody>\n</table>\n</div>"
     },
     "execution_count": 11,
     "metadata": {},
     "output_type": "execute_result"
    }
   ],
   "source": [
    "# the only example to justify the duplication in terms of the file_name\n",
    "\n",
    "df_livecell_test_imgs_meta[df_livecell_test_imgs_meta['file_name'].str.contains('Huh7_Phase_A12_1_03d16h00m_2.tif',\n",
    "                                                                                  regex=False)]"
   ],
   "metadata": {
    "collapsed": false,
    "pycharm": {
     "name": "#%%\n"
    }
   }
  },
  {
   "cell_type": "code",
   "execution_count": 12,
   "outputs": [
    {
     "name": "stdout",
     "output_type": "stream",
     "text": [
      "the number of valid images in dir livecell_test_images is: 1664.\n",
      "the number of unique filenames in column file_name is: 1512.\n",
      "all unique filenames in column file_name have the corresponding images.\n"
     ]
    }
   ],
   "source": [
    "# check the correspondence between file_name column and the corresponding images in terms of testing dataset\n",
    "\n",
    "test_series = non_duplicated_test_filenames['file_name']\n",
    "check_filename_correspondence(test_series, livecell_test_img_path)"
   ],
   "metadata": {
    "collapsed": false,
    "pycharm": {
     "name": "#%%\n"
    }
   }
  },
  {
   "cell_type": "markdown",
   "source": [
    "### Partial conclusions of testing metadata - images\n",
    "According to the result of the blocks above, it can be derived that\n",
    "\n",
    "- While the overall image file names of metadata for testing images count to **1564**, the unique image file names (\n",
    "including the first file_name of duplicated ones) count to **1512**.\n",
    "- All the unique image file names of metadata for testing images have the corresponding images that can be found."
   ],
   "metadata": {
    "collapsed": false
   }
  }
 ],
 "metadata": {
  "kernelspec": {
   "display_name": "Python 3",
   "language": "python",
   "name": "python3"
  },
  "language_info": {
   "codemirror_mode": {
    "name": "ipython",
    "version": 2
   },
   "file_extension": ".py",
   "mimetype": "text/x-python",
   "name": "python",
   "nbconvert_exporter": "python",
   "pygments_lexer": "ipython2",
   "version": "2.7.6"
  }
 },
 "nbformat": 4,
 "nbformat_minor": 0
}